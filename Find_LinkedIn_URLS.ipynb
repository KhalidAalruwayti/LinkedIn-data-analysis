{
 "cells": [
  {
   "cell_type": "code",
   "execution_count": null,
   "id": "e6aa04df",
   "metadata": {},
   "outputs": [],
   "source": [
    "import pandas as pd\n",
    "from parsel import Selector\n",
    "from time import sleep\n",
    "from selenium import webdriver\n",
    "from selenium.webdriver.common.by import By\n",
    "from selenium.webdriver.support.ui import WebDriverWait\n",
    "from selenium.webdriver.support import expected_conditions as EC\n",
    "from selenium.webdriver.chrome.options import Options\n",
    "from selenium.webdriver.common.keys import Keys\n",
    "import itertools \n",
    "\n",
    "opts = Options()\n",
    "\n",
    "\n",
    "driver = webdriver.Chrome (options=opts, executable_path='chromedriver')\n",
    "# function to ensure all key data fields have a value\n",
    "def validate_field (field):\n",
    "    # if field is present pass if field:\n",
    "    if field:\n",
    "        pass\n",
    "    # if field is not present print text else:\n",
    "    else:\n",
    "        field = 'No results'\n",
    "    \n",
    "    return field\n",
    "#driver.get method() will navigate to a page given by the URL address\n",
    "driver.get('https://www.linkedin.com')\n",
    "# Locate email form by_class_name\n",
    "# username = driver.find_element(By.ID, 'session_key')# send_keys() to simulate key strokes\n",
    "username.send_keys('########')\n",
    "#sleep for 0.5 seconds\n",
    "sleep(0.5)\n",
    "# Locate password form by_class_name\n",
    "password=driver.find_element(By.ID, 'session_password')\n",
    "#send_keys() to simulate key strokes\n",
    "password.send_keys (\"######\")\n",
    "sleep(0.5)\n",
    "# Locate submit button by_xpath\n",
    "sign_in_button = driver.find_element(By.XPATH, '//*[@type=\"submit\"]')\n",
    "# .click() to mimic button click\n",
    "sign_in_button.click()\n",
    "sleep (15)"
   ]
  },
  {
   "cell_type": "code",
   "execution_count": null,
   "id": "b61f2b80",
   "metadata": {},
   "outputs": [],
   "source": [
    "Inks = []\n",
    "start=\"https://sa.linkedin.com/in/\"\n",
    "ch=\"/\"\n",
    "driver.get (\"#insert the google search link#\")\n",
    "for x in range (0,30):\n",
    "    sleep (15)\n",
    "    linkedin_urls = [my_elem.get_attribute(\"href\") for my_elem in WebDriverWait (driver, 20). until (EC.visibility_of_all_elements_located ((By.XPATH, \"//div[@class='yuRUbf']/a[@href]\")))]\n",
    "    Inks.append(linkedin_urls) \n",
    "    if(x==29):\n",
    "         continue \n",
    "    driver.find_element(By.XPATH,\"//*[@id=\\\"pnnext\\\"]/span[2]/span\").click()"
   ]
  },
  {
   "cell_type": "code",
   "execution_count": null,
   "id": "09f62fe1",
   "metadata": {},
   "outputs": [],
   "source": [
    "i=0    \n",
    "llist = list(itertools.chain.from_iterable(Inks))\n",
    "for y in llist:\n",
    "    try:\n",
    "        llist[i]=y.split(start)[1].split(ch,1)[0]\n",
    "        i=i+1\n",
    "    except IndexError: \n",
    "        continue\n",
    "        llist[i]=\"\"\n",
    "        i=i+1\n",
    "print(llist)\n",
    "driver.quit()"
   ]
  }
 ],
 "metadata": {
  "kernelspec": {
   "display_name": "Python 3 (ipykernel)",
   "language": "python",
   "name": "python3"
  },
  "language_info": {
   "codemirror_mode": {
    "name": "ipython",
    "version": 3
   },
   "file_extension": ".py",
   "mimetype": "text/x-python",
   "name": "python",
   "nbconvert_exporter": "python",
   "pygments_lexer": "ipython3",
   "version": "3.9.12"
  }
 },
 "nbformat": 4,
 "nbformat_minor": 5
}
